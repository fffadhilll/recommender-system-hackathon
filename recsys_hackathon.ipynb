{
 "cells": [
  {
   "cell_type": "code",
   "execution_count": 1,
   "metadata": {
    "id": "K1RIk3wIym5q"
   },
   "outputs": [],
   "source": [
    "import pandas as pd\n",
    "import matplotlib.pyplot as plt\n",
    "import seaborn as sns\n",
    "import numpy as np"
   ]
  },
  {
   "cell_type": "markdown",
   "metadata": {
    "id": "vnHPUnY08Eei"
   },
   "source": [
    "#Extracting Data"
   ]
  },
  {
   "cell_type": "code",
   "execution_count": 2,
   "metadata": {
    "id": "lOfbtAln734D"
   },
   "outputs": [],
   "source": [
    "def load_data(file_name):\n",
    "  '''\n",
    "    Menampilkan data yang tersedia.\n",
    "\n",
    "      Parameters:\n",
    "        filename (str): Nama file yang tersedia\n",
    "\n",
    "      Return:\n",
    "        File Dataframe (DataFrame)\n",
    "  '''\n",
    "\n",
    "  df = pd.read_csv(file_name)\n",
    "  return df"
   ]
  },
  {
   "cell_type": "code",
   "execution_count": 3,
   "metadata": {
    "colab": {
     "base_uri": "https://localhost:8080/",
     "height": 206
    },
    "id": "Duyjw7YLym_G",
    "outputId": "f2c836d2-df44-491e-a927-2b3f46b8d247"
   },
   "outputs": [
    {
     "data": {
      "text/html": [
       "<div>\n",
       "<style scoped>\n",
       "    .dataframe tbody tr th:only-of-type {\n",
       "        vertical-align: middle;\n",
       "    }\n",
       "\n",
       "    .dataframe tbody tr th {\n",
       "        vertical-align: top;\n",
       "    }\n",
       "\n",
       "    .dataframe thead th {\n",
       "        text-align: right;\n",
       "    }\n",
       "</style>\n",
       "<table border=\"1\" class=\"dataframe\">\n",
       "  <thead>\n",
       "    <tr style=\"text-align: right;\">\n",
       "      <th></th>\n",
       "      <th>User ID</th>\n",
       "      <th>Product ID</th>\n",
       "      <th>Product Name</th>\n",
       "      <th>Brand</th>\n",
       "      <th>Category</th>\n",
       "      <th>Price</th>\n",
       "      <th>Rating</th>\n",
       "      <th>Color</th>\n",
       "      <th>Size</th>\n",
       "    </tr>\n",
       "  </thead>\n",
       "  <tbody>\n",
       "    <tr>\n",
       "      <th>0</th>\n",
       "      <td>19</td>\n",
       "      <td>1</td>\n",
       "      <td>Dress</td>\n",
       "      <td>Adidas</td>\n",
       "      <td>Men's Fashion</td>\n",
       "      <td>40</td>\n",
       "      <td>1.043159</td>\n",
       "      <td>Black</td>\n",
       "      <td>XL</td>\n",
       "    </tr>\n",
       "    <tr>\n",
       "      <th>1</th>\n",
       "      <td>97</td>\n",
       "      <td>2</td>\n",
       "      <td>Shoes</td>\n",
       "      <td>H&amp;M</td>\n",
       "      <td>Women's Fashion</td>\n",
       "      <td>82</td>\n",
       "      <td>4.026416</td>\n",
       "      <td>Black</td>\n",
       "      <td>L</td>\n",
       "    </tr>\n",
       "    <tr>\n",
       "      <th>2</th>\n",
       "      <td>25</td>\n",
       "      <td>3</td>\n",
       "      <td>Dress</td>\n",
       "      <td>Adidas</td>\n",
       "      <td>Women's Fashion</td>\n",
       "      <td>44</td>\n",
       "      <td>3.337938</td>\n",
       "      <td>Yellow</td>\n",
       "      <td>XL</td>\n",
       "    </tr>\n",
       "    <tr>\n",
       "      <th>3</th>\n",
       "      <td>57</td>\n",
       "      <td>4</td>\n",
       "      <td>Shoes</td>\n",
       "      <td>Zara</td>\n",
       "      <td>Men's Fashion</td>\n",
       "      <td>23</td>\n",
       "      <td>1.049523</td>\n",
       "      <td>White</td>\n",
       "      <td>S</td>\n",
       "    </tr>\n",
       "    <tr>\n",
       "      <th>4</th>\n",
       "      <td>79</td>\n",
       "      <td>5</td>\n",
       "      <td>T-shirt</td>\n",
       "      <td>Adidas</td>\n",
       "      <td>Men's Fashion</td>\n",
       "      <td>79</td>\n",
       "      <td>4.302773</td>\n",
       "      <td>Black</td>\n",
       "      <td>M</td>\n",
       "    </tr>\n",
       "  </tbody>\n",
       "</table>\n",
       "</div>"
      ],
      "text/plain": [
       "   User ID  Product ID Product Name   Brand         Category  Price    Rating  \\\n",
       "0       19           1        Dress  Adidas    Men's Fashion     40  1.043159   \n",
       "1       97           2        Shoes     H&M  Women's Fashion     82  4.026416   \n",
       "2       25           3        Dress  Adidas  Women's Fashion     44  3.337938   \n",
       "3       57           4        Shoes    Zara    Men's Fashion     23  1.049523   \n",
       "4       79           5      T-shirt  Adidas    Men's Fashion     79  4.302773   \n",
       "\n",
       "    Color Size  \n",
       "0   Black   XL  \n",
       "1   Black    L  \n",
       "2  Yellow   XL  \n",
       "3   White    S  \n",
       "4   Black    M  "
      ]
     },
     "execution_count": 3,
     "metadata": {},
     "output_type": "execute_result"
    }
   ],
   "source": [
    "df = load_data('data/fashion_products.csv')\n",
    "df.head()"
   ]
  },
  {
   "cell_type": "code",
   "execution_count": 4,
   "metadata": {
    "colab": {
     "base_uri": "https://localhost:8080/",
     "height": 300
    },
    "id": "Fzzix-ZA3Qlx",
    "outputId": "a120b09f-50d9-46ff-8ba3-48432e934094"
   },
   "outputs": [
    {
     "data": {
      "text/html": [
       "<div>\n",
       "<style scoped>\n",
       "    .dataframe tbody tr th:only-of-type {\n",
       "        vertical-align: middle;\n",
       "    }\n",
       "\n",
       "    .dataframe tbody tr th {\n",
       "        vertical-align: top;\n",
       "    }\n",
       "\n",
       "    .dataframe thead th {\n",
       "        text-align: right;\n",
       "    }\n",
       "</style>\n",
       "<table border=\"1\" class=\"dataframe\">\n",
       "  <thead>\n",
       "    <tr style=\"text-align: right;\">\n",
       "      <th></th>\n",
       "      <th>User ID</th>\n",
       "      <th>Product ID</th>\n",
       "      <th>Price</th>\n",
       "      <th>Rating</th>\n",
       "    </tr>\n",
       "  </thead>\n",
       "  <tbody>\n",
       "    <tr>\n",
       "      <th>count</th>\n",
       "      <td>1000.00000</td>\n",
       "      <td>1000.000000</td>\n",
       "      <td>1000.000000</td>\n",
       "      <td>1000.000000</td>\n",
       "    </tr>\n",
       "    <tr>\n",
       "      <th>mean</th>\n",
       "      <td>50.41900</td>\n",
       "      <td>500.500000</td>\n",
       "      <td>55.785000</td>\n",
       "      <td>2.993135</td>\n",
       "    </tr>\n",
       "    <tr>\n",
       "      <th>std</th>\n",
       "      <td>28.78131</td>\n",
       "      <td>288.819436</td>\n",
       "      <td>26.291748</td>\n",
       "      <td>1.153185</td>\n",
       "    </tr>\n",
       "    <tr>\n",
       "      <th>min</th>\n",
       "      <td>1.00000</td>\n",
       "      <td>1.000000</td>\n",
       "      <td>10.000000</td>\n",
       "      <td>1.000967</td>\n",
       "    </tr>\n",
       "    <tr>\n",
       "      <th>25%</th>\n",
       "      <td>26.00000</td>\n",
       "      <td>250.750000</td>\n",
       "      <td>33.000000</td>\n",
       "      <td>1.992786</td>\n",
       "    </tr>\n",
       "    <tr>\n",
       "      <th>50%</th>\n",
       "      <td>50.00000</td>\n",
       "      <td>500.500000</td>\n",
       "      <td>57.000000</td>\n",
       "      <td>2.984003</td>\n",
       "    </tr>\n",
       "    <tr>\n",
       "      <th>75%</th>\n",
       "      <td>75.00000</td>\n",
       "      <td>750.250000</td>\n",
       "      <td>78.250000</td>\n",
       "      <td>3.985084</td>\n",
       "    </tr>\n",
       "    <tr>\n",
       "      <th>max</th>\n",
       "      <td>100.00000</td>\n",
       "      <td>1000.000000</td>\n",
       "      <td>100.000000</td>\n",
       "      <td>4.987964</td>\n",
       "    </tr>\n",
       "  </tbody>\n",
       "</table>\n",
       "</div>"
      ],
      "text/plain": [
       "          User ID   Product ID        Price       Rating\n",
       "count  1000.00000  1000.000000  1000.000000  1000.000000\n",
       "mean     50.41900   500.500000    55.785000     2.993135\n",
       "std      28.78131   288.819436    26.291748     1.153185\n",
       "min       1.00000     1.000000    10.000000     1.000967\n",
       "25%      26.00000   250.750000    33.000000     1.992786\n",
       "50%      50.00000   500.500000    57.000000     2.984003\n",
       "75%      75.00000   750.250000    78.250000     3.985084\n",
       "max     100.00000  1000.000000   100.000000     4.987964"
      ]
     },
     "execution_count": 4,
     "metadata": {},
     "output_type": "execute_result"
    }
   ],
   "source": [
    "df.describe()"
   ]
  },
  {
   "cell_type": "code",
   "execution_count": 5,
   "metadata": {
    "colab": {
     "base_uri": "https://localhost:8080/"
    },
    "id": "PFClXlS52BiL",
    "outputId": "07132b5b-766c-4ef9-a124-14c729989c4a"
   },
   "outputs": [
    {
     "name": "stdout",
     "output_type": "stream",
     "text": [
      "<class 'pandas.core.frame.DataFrame'>\n",
      "RangeIndex: 1000 entries, 0 to 999\n",
      "Data columns (total 9 columns):\n",
      " #   Column        Non-Null Count  Dtype  \n",
      "---  ------        --------------  -----  \n",
      " 0   User ID       1000 non-null   int64  \n",
      " 1   Product ID    1000 non-null   int64  \n",
      " 2   Product Name  1000 non-null   object \n",
      " 3   Brand         1000 non-null   object \n",
      " 4   Category      1000 non-null   object \n",
      " 5   Price         1000 non-null   int64  \n",
      " 6   Rating        1000 non-null   float64\n",
      " 7   Color         1000 non-null   object \n",
      " 8   Size          1000 non-null   object \n",
      "dtypes: float64(1), int64(3), object(5)\n",
      "memory usage: 70.4+ KB\n"
     ]
    }
   ],
   "source": [
    "df.info()"
   ]
  },
  {
   "cell_type": "markdown",
   "metadata": {
    "id": "Y_xsLeL68W_p"
   },
   "source": [
    "#Check Data"
   ]
  },
  {
   "cell_type": "code",
   "execution_count": 6,
   "metadata": {
    "id": "sZB3ZwFY8Zvx"
   },
   "outputs": [],
   "source": [
    "def check_data(data):\n",
    "  '''\n",
    "    Mengecek data null dan data duplikat.\n",
    "\n",
    "      Parameters:\n",
    "        data: Data yang ingin dicek\n",
    "\n",
    "      Return:\n",
    "        (str): Jumlah data null dan data duplikat\n",
    "  '''\n",
    "\n",
    "  null_data = data.isnull().sum()\n",
    "  duplicated_data = data.duplicated().sum()\n",
    "\n",
    "  print(f\"Null Data:\\n{null_data}\\n\\nDuplicated Data: {duplicated_data}\" )"
   ]
  },
  {
   "cell_type": "code",
   "execution_count": 7,
   "metadata": {
    "colab": {
     "base_uri": "https://localhost:8080/"
    },
    "id": "d979IOV0yy4h",
    "outputId": "5529a504-e802-4393-a04c-44edcc41fac1"
   },
   "outputs": [
    {
     "name": "stdout",
     "output_type": "stream",
     "text": [
      "Null Data:\n",
      "User ID         0\n",
      "Product ID      0\n",
      "Product Name    0\n",
      "Brand           0\n",
      "Category        0\n",
      "Price           0\n",
      "Rating          0\n",
      "Color           0\n",
      "Size            0\n",
      "dtype: int64\n",
      "\n",
      "Duplicated Data: 0\n"
     ]
    }
   ],
   "source": [
    "check_data(df)"
   ]
  },
  {
   "cell_type": "markdown",
   "metadata": {
    "id": "0epkJgpoEJ9U"
   },
   "source": [
    "#Cleaning Data"
   ]
  },
  {
   "cell_type": "code",
   "execution_count": 8,
   "metadata": {
    "id": "ZHVTFTuIEJWx"
   },
   "outputs": [],
   "source": [
    "df['Rating'] = df['Rating'].round(0)"
   ]
  },
  {
   "cell_type": "code",
   "execution_count": 9,
   "metadata": {
    "colab": {
     "base_uri": "https://localhost:8080/",
     "height": 423
    },
    "id": "1CK41-wcEWmd",
    "outputId": "d4588cbf-b099-466b-be7a-e0a7a2613b54"
   },
   "outputs": [
    {
     "data": {
      "text/html": [
       "<div>\n",
       "<style scoped>\n",
       "    .dataframe tbody tr th:only-of-type {\n",
       "        vertical-align: middle;\n",
       "    }\n",
       "\n",
       "    .dataframe tbody tr th {\n",
       "        vertical-align: top;\n",
       "    }\n",
       "\n",
       "    .dataframe thead th {\n",
       "        text-align: right;\n",
       "    }\n",
       "</style>\n",
       "<table border=\"1\" class=\"dataframe\">\n",
       "  <thead>\n",
       "    <tr style=\"text-align: right;\">\n",
       "      <th></th>\n",
       "      <th>User ID</th>\n",
       "      <th>Product ID</th>\n",
       "      <th>Product Name</th>\n",
       "      <th>Brand</th>\n",
       "      <th>Category</th>\n",
       "      <th>Price</th>\n",
       "      <th>Rating</th>\n",
       "      <th>Color</th>\n",
       "      <th>Size</th>\n",
       "    </tr>\n",
       "  </thead>\n",
       "  <tbody>\n",
       "    <tr>\n",
       "      <th>0</th>\n",
       "      <td>19</td>\n",
       "      <td>1</td>\n",
       "      <td>Dress</td>\n",
       "      <td>Adidas</td>\n",
       "      <td>Men's Fashion</td>\n",
       "      <td>40</td>\n",
       "      <td>1.0</td>\n",
       "      <td>Black</td>\n",
       "      <td>XL</td>\n",
       "    </tr>\n",
       "    <tr>\n",
       "      <th>1</th>\n",
       "      <td>97</td>\n",
       "      <td>2</td>\n",
       "      <td>Shoes</td>\n",
       "      <td>H&amp;M</td>\n",
       "      <td>Women's Fashion</td>\n",
       "      <td>82</td>\n",
       "      <td>4.0</td>\n",
       "      <td>Black</td>\n",
       "      <td>L</td>\n",
       "    </tr>\n",
       "    <tr>\n",
       "      <th>2</th>\n",
       "      <td>25</td>\n",
       "      <td>3</td>\n",
       "      <td>Dress</td>\n",
       "      <td>Adidas</td>\n",
       "      <td>Women's Fashion</td>\n",
       "      <td>44</td>\n",
       "      <td>3.0</td>\n",
       "      <td>Yellow</td>\n",
       "      <td>XL</td>\n",
       "    </tr>\n",
       "    <tr>\n",
       "      <th>3</th>\n",
       "      <td>57</td>\n",
       "      <td>4</td>\n",
       "      <td>Shoes</td>\n",
       "      <td>Zara</td>\n",
       "      <td>Men's Fashion</td>\n",
       "      <td>23</td>\n",
       "      <td>1.0</td>\n",
       "      <td>White</td>\n",
       "      <td>S</td>\n",
       "    </tr>\n",
       "    <tr>\n",
       "      <th>4</th>\n",
       "      <td>79</td>\n",
       "      <td>5</td>\n",
       "      <td>T-shirt</td>\n",
       "      <td>Adidas</td>\n",
       "      <td>Men's Fashion</td>\n",
       "      <td>79</td>\n",
       "      <td>4.0</td>\n",
       "      <td>Black</td>\n",
       "      <td>M</td>\n",
       "    </tr>\n",
       "    <tr>\n",
       "      <th>...</th>\n",
       "      <td>...</td>\n",
       "      <td>...</td>\n",
       "      <td>...</td>\n",
       "      <td>...</td>\n",
       "      <td>...</td>\n",
       "      <td>...</td>\n",
       "      <td>...</td>\n",
       "      <td>...</td>\n",
       "      <td>...</td>\n",
       "    </tr>\n",
       "    <tr>\n",
       "      <th>995</th>\n",
       "      <td>20</td>\n",
       "      <td>996</td>\n",
       "      <td>Shoes</td>\n",
       "      <td>Zara</td>\n",
       "      <td>Women's Fashion</td>\n",
       "      <td>55</td>\n",
       "      <td>2.0</td>\n",
       "      <td>Black</td>\n",
       "      <td>M</td>\n",
       "    </tr>\n",
       "    <tr>\n",
       "      <th>996</th>\n",
       "      <td>42</td>\n",
       "      <td>997</td>\n",
       "      <td>Sweater</td>\n",
       "      <td>Nike</td>\n",
       "      <td>Kids' Fashion</td>\n",
       "      <td>13</td>\n",
       "      <td>2.0</td>\n",
       "      <td>Green</td>\n",
       "      <td>L</td>\n",
       "    </tr>\n",
       "    <tr>\n",
       "      <th>997</th>\n",
       "      <td>9</td>\n",
       "      <td>998</td>\n",
       "      <td>Sweater</td>\n",
       "      <td>Zara</td>\n",
       "      <td>Men's Fashion</td>\n",
       "      <td>47</td>\n",
       "      <td>4.0</td>\n",
       "      <td>White</td>\n",
       "      <td>L</td>\n",
       "    </tr>\n",
       "    <tr>\n",
       "      <th>998</th>\n",
       "      <td>8</td>\n",
       "      <td>999</td>\n",
       "      <td>T-shirt</td>\n",
       "      <td>Zara</td>\n",
       "      <td>Women's Fashion</td>\n",
       "      <td>68</td>\n",
       "      <td>3.0</td>\n",
       "      <td>Blue</td>\n",
       "      <td>S</td>\n",
       "    </tr>\n",
       "    <tr>\n",
       "      <th>999</th>\n",
       "      <td>91</td>\n",
       "      <td>1000</td>\n",
       "      <td>Shoes</td>\n",
       "      <td>Adidas</td>\n",
       "      <td>Women's Fashion</td>\n",
       "      <td>79</td>\n",
       "      <td>3.0</td>\n",
       "      <td>White</td>\n",
       "      <td>L</td>\n",
       "    </tr>\n",
       "  </tbody>\n",
       "</table>\n",
       "<p>1000 rows × 9 columns</p>\n",
       "</div>"
      ],
      "text/plain": [
       "     User ID  Product ID Product Name   Brand         Category  Price  Rating  \\\n",
       "0         19           1        Dress  Adidas    Men's Fashion     40     1.0   \n",
       "1         97           2        Shoes     H&M  Women's Fashion     82     4.0   \n",
       "2         25           3        Dress  Adidas  Women's Fashion     44     3.0   \n",
       "3         57           4        Shoes    Zara    Men's Fashion     23     1.0   \n",
       "4         79           5      T-shirt  Adidas    Men's Fashion     79     4.0   \n",
       "..       ...         ...          ...     ...              ...    ...     ...   \n",
       "995       20         996        Shoes    Zara  Women's Fashion     55     2.0   \n",
       "996       42         997      Sweater    Nike    Kids' Fashion     13     2.0   \n",
       "997        9         998      Sweater    Zara    Men's Fashion     47     4.0   \n",
       "998        8         999      T-shirt    Zara  Women's Fashion     68     3.0   \n",
       "999       91        1000        Shoes  Adidas  Women's Fashion     79     3.0   \n",
       "\n",
       "      Color Size  \n",
       "0     Black   XL  \n",
       "1     Black    L  \n",
       "2    Yellow   XL  \n",
       "3     White    S  \n",
       "4     Black    M  \n",
       "..      ...  ...  \n",
       "995   Black    M  \n",
       "996   Green    L  \n",
       "997   White    L  \n",
       "998    Blue    S  \n",
       "999   White    L  \n",
       "\n",
       "[1000 rows x 9 columns]"
      ]
     },
     "execution_count": 9,
     "metadata": {},
     "output_type": "execute_result"
    }
   ],
   "source": [
    "df"
   ]
  },
  {
   "cell_type": "markdown",
   "metadata": {
    "id": "d1VoK2uXGKGS"
   },
   "source": [
    "### Uitiliy Matrix (COO)"
   ]
  },
  {
   "cell_type": "code",
   "execution_count": 10,
   "metadata": {},
   "outputs": [],
   "source": [
    "# Load library\n",
    "from scipy.sparse import coo_matrix"
   ]
  },
  {
   "cell_type": "code",
   "execution_count": 11,
   "metadata": {},
   "outputs": [],
   "source": [
    "# Prepare the data\n",
    "row = df['User ID'].values\n",
    "col = df['Product ID'].values\n",
    "data = df['Rating'].values"
   ]
  },
  {
   "cell_type": "code",
   "execution_count": 12,
   "metadata": {},
   "outputs": [
    {
     "name": "stdout",
     "output_type": "stream",
     "text": [
      "  (19, 1)\t1.0\n",
      "  (97, 2)\t4.0\n",
      "  (25, 3)\t3.0\n",
      "  (57, 4)\t1.0\n",
      "  (79, 5)\t4.0\n",
      "  (98, 6)\t1.0\n",
      "  (16, 7)\t1.0\n",
      "  (63, 8)\t4.0\n",
      "  (96, 9)\t4.0\n",
      "  (36, 10)\t4.0\n",
      "  (69, 11)\t1.0\n",
      "  (87, 12)\t3.0\n",
      "  (9, 13)\t2.0\n",
      "  (50, 14)\t3.0\n",
      "  (31, 15)\t4.0\n",
      "  (37, 16)\t1.0\n",
      "  (41, 17)\t1.0\n",
      "  (15, 18)\t4.0\n",
      "  (84, 19)\t3.0\n",
      "  (56, 20)\t4.0\n",
      "  (87, 21)\t3.0\n",
      "  (56, 22)\t5.0\n",
      "  (60, 23)\t4.0\n",
      "  (64, 24)\t2.0\n",
      "  (65, 25)\t1.0\n",
      "  :\t:\n",
      "  (82, 976)\t2.0\n",
      "  (4, 977)\t4.0\n",
      "  (23, 978)\t4.0\n",
      "  (77, 979)\t2.0\n",
      "  (28, 980)\t5.0\n",
      "  (35, 981)\t3.0\n",
      "  (50, 982)\t4.0\n",
      "  (94, 983)\t4.0\n",
      "  (70, 984)\t3.0\n",
      "  (57, 985)\t3.0\n",
      "  (1, 986)\t5.0\n",
      "  (77, 987)\t3.0\n",
      "  (80, 988)\t3.0\n",
      "  (67, 989)\t5.0\n",
      "  (51, 990)\t3.0\n",
      "  (60, 991)\t5.0\n",
      "  (42, 992)\t5.0\n",
      "  (89, 993)\t4.0\n",
      "  (59, 994)\t4.0\n",
      "  (34, 995)\t4.0\n",
      "  (20, 996)\t2.0\n",
      "  (42, 997)\t2.0\n",
      "  (9, 998)\t4.0\n",
      "  (8, 999)\t3.0\n",
      "  (91, 1000)\t3.0\n"
     ]
    }
   ],
   "source": [
    "# Create the utility matrix in COO format\n",
    "coo_data = coo_matrix((data, (row, col)))\n",
    "print(coo_data)"
   ]
  },
  {
   "cell_type": "code",
   "execution_count": 13,
   "metadata": {},
   "outputs": [
    {
     "data": {
      "text/plain": [
       "(array([1., 4., 3., 1., 4., 1., 1., 4., 4., 4., 1., 3., 2., 3., 4., 1., 1.,\n",
       "        4., 3., 4., 3., 5., 4., 2., 1., 5., 3., 3., 5., 3., 3., 3., 5., 4.,\n",
       "        4., 1., 5., 3., 2., 2., 3., 2., 4., 2., 5., 3., 1., 2., 3., 3., 4.,\n",
       "        4., 1., 2., 3., 2., 4., 2., 3., 2., 1., 2., 4., 2., 3., 5., 4., 4.,\n",
       "        4., 3., 5., 3., 3., 3., 3., 3., 2., 1., 1., 3., 2., 5., 1., 3., 1.,\n",
       "        3., 4., 3., 4., 4., 3., 2., 5., 4., 2., 5., 4., 4., 4., 2., 2., 4.,\n",
       "        4., 5., 2., 3., 3., 4., 3., 5., 2., 2., 1., 1., 3., 3., 4., 4., 3.,\n",
       "        3., 2., 4., 3., 1., 4., 5., 5., 2., 2., 1., 3., 3., 2., 4., 4., 1.,\n",
       "        3., 2., 4., 2., 4., 4., 5., 1., 5., 3., 3., 3., 4., 1., 2., 5., 2.,\n",
       "        2., 2., 1., 4., 3., 2., 3., 5., 3., 4., 3., 2., 5., 4., 4., 1., 3.,\n",
       "        2., 5., 3., 3., 2., 2., 5., 2., 1., 2., 5., 4., 3., 3., 2., 2., 3.,\n",
       "        4., 3., 4., 3., 4., 3., 4., 3., 1., 2., 3., 5., 4., 4., 3., 2., 2.,\n",
       "        3., 4., 3., 3., 1., 2., 3., 3., 5., 2., 4., 4., 1., 3., 2., 5., 3.,\n",
       "        1., 3., 2., 2., 2., 4., 2., 2., 5., 5., 1., 5., 2., 2., 2., 4., 2.,\n",
       "        4., 2., 2., 4., 1., 3., 2., 3., 2., 4., 2., 3., 2., 2., 4., 1., 3.,\n",
       "        2., 3., 4., 3., 4., 3., 4., 4., 3., 3., 2., 4., 4., 5., 4., 4., 2.,\n",
       "        2., 2., 4., 1., 2., 3., 2., 2., 2., 1., 4., 4., 4., 3., 5., 2., 3.,\n",
       "        5., 5., 3., 3., 4., 2., 4., 2., 1., 3., 5., 2., 5., 4., 1., 2., 3.,\n",
       "        4., 4., 4., 4., 5., 3., 5., 2., 1., 2., 4., 1., 1., 3., 4., 2., 2.,\n",
       "        5., 3., 3., 5., 1., 4., 2., 3., 3., 2., 2., 3., 4., 2., 1., 2., 1.,\n",
       "        4., 4., 5., 4., 1., 5., 1., 3., 3., 3., 4., 2., 3., 4., 2., 4., 3.,\n",
       "        1., 4., 2., 2., 1., 3., 2., 3., 4., 3., 2., 4., 3., 1., 2., 3., 1.,\n",
       "        4., 4., 4., 4., 4., 1., 3., 4., 3., 1., 4., 4., 1., 4., 2., 4., 4.,\n",
       "        3., 2., 4., 3., 3., 2., 2., 3., 2., 5., 2., 3., 3., 3., 2., 4., 3.,\n",
       "        2., 5., 3., 3., 5., 2., 3., 3., 3., 5., 3., 5., 2., 2., 5., 3., 4.,\n",
       "        5., 5., 2., 4., 3., 3., 2., 4., 2., 3., 3., 3., 5., 3., 5., 2., 4.,\n",
       "        3., 2., 4., 1., 5., 2., 5., 4., 3., 4., 3., 4., 1., 4., 2., 1., 2.,\n",
       "        3., 1., 2., 3., 1., 1., 1., 2., 1., 5., 5., 2., 3., 2., 1., 4., 4.,\n",
       "        2., 1., 1., 2., 2., 4., 3., 2., 3., 1., 4., 1., 4., 2., 3., 1., 3.,\n",
       "        5., 1., 2., 4., 3., 3., 2., 4., 5., 5., 2., 2., 4., 4., 4., 2., 3.,\n",
       "        3., 2., 4., 3., 4., 2., 3., 3., 3., 3., 3., 3., 1., 2., 2., 3., 4.,\n",
       "        3., 2., 3., 3., 2., 5., 5., 1., 3., 2., 2., 3., 1., 2., 4., 4., 4.,\n",
       "        2., 1., 3., 1., 4., 3., 4., 4., 1., 4., 4., 3., 2., 2., 4., 1., 4.,\n",
       "        4., 4., 5., 3., 4., 1., 3., 4., 1., 3., 4., 3., 4., 5., 3., 2., 3.,\n",
       "        5., 2., 5., 2., 4., 3., 4., 2., 1., 3., 1., 2., 2., 2., 3., 4., 4.,\n",
       "        4., 3., 1., 4., 1., 1., 4., 2., 4., 3., 4., 1., 3., 5., 3., 2., 2.,\n",
       "        5., 1., 3., 5., 2., 5., 1., 3., 3., 4., 2., 4., 3., 4., 2., 4., 4.,\n",
       "        2., 4., 4., 4., 1., 2., 5., 4., 5., 4., 3., 2., 5., 5., 1., 5., 3.,\n",
       "        2., 3., 2., 4., 1., 1., 5., 4., 2., 5., 2., 3., 1., 3., 2., 3., 1.,\n",
       "        4., 3., 2., 1., 2., 3., 4., 3., 3., 3., 2., 1., 3., 5., 3., 1., 4.,\n",
       "        4., 4., 2., 4., 1., 3., 4., 1., 3., 2., 3., 5., 3., 2., 5., 5., 5.,\n",
       "        2., 2., 5., 2., 5., 3., 5., 2., 1., 4., 4., 2., 2., 3., 5., 4., 2.,\n",
       "        5., 4., 4., 1., 2., 3., 2., 4., 1., 3., 4., 3., 4., 2., 3., 2., 5.,\n",
       "        3., 5., 2., 4., 3., 1., 1., 1., 4., 3., 3., 2., 3., 4., 1., 1., 3.,\n",
       "        2., 4., 2., 2., 4., 2., 3., 2., 4., 4., 2., 3., 4., 4., 2., 2., 5.,\n",
       "        4., 5., 5., 4., 5., 2., 5., 3., 3., 3., 2., 2., 4., 4., 2., 5., 2.,\n",
       "        2., 3., 1., 4., 3., 3., 3., 1., 4., 5., 1., 4., 1., 2., 1., 2., 2.,\n",
       "        5., 4., 3., 2., 3., 3., 4., 2., 4., 3., 1., 2., 1., 3., 3., 3., 1.,\n",
       "        1., 4., 3., 3., 4., 5., 3., 1., 2., 5., 2., 4., 4., 4., 3., 2., 1.,\n",
       "        4., 3., 4., 2., 3., 3., 3., 3., 3., 3., 3., 2., 4., 1., 4., 4., 1.,\n",
       "        3., 3., 3., 4., 2., 2., 4., 4., 1., 4., 5., 2., 1., 4., 2., 5., 4.,\n",
       "        4., 2., 3., 3., 5., 3., 4., 3., 1., 5., 4., 4., 2., 3., 2., 2., 3.,\n",
       "        3., 3., 4., 5., 5., 1., 1., 4., 2., 1., 2., 4., 4., 4., 2., 2., 5.,\n",
       "        3., 2., 2., 1., 3., 2., 3., 3., 1., 2., 3., 4., 4., 3., 3., 3., 4.,\n",
       "        3., 4., 3., 5., 3., 4., 3., 2., 5., 5., 4., 3., 4., 3., 3., 3., 2.,\n",
       "        2., 1., 3., 5., 4., 2., 2., 4., 3., 2., 2., 3., 4., 4., 2., 3., 3.,\n",
       "        2., 3., 2., 4., 5., 2., 3., 4., 2., 3., 4., 5., 4., 5., 4., 1., 2.,\n",
       "        5., 3., 5., 4., 3., 3., 2., 4., 4., 2., 5., 3., 4., 4., 3., 3., 5.,\n",
       "        3., 3., 5., 3., 5., 5., 4., 4., 4., 2., 2., 4., 3., 3.]),\n",
       " 1000)"
      ]
     },
     "execution_count": 13,
     "metadata": {},
     "output_type": "execute_result"
    }
   ],
   "source": [
    "coo_data.data, len(coo_data.data)"
   ]
  },
  {
   "cell_type": "code",
   "execution_count": 14,
   "metadata": {},
   "outputs": [],
   "source": [
    "def get_utility_matrix(df):\n",
    "    \"\"\"\n",
    "    Get a COO format utility matrix\n",
    "\n",
    "    Parameters\n",
    "    ----------\n",
    "    rating_data : pandas DataFrame\n",
    "        The sample of rating data\n",
    "\n",
    "    Returns\n",
    "    -------\n",
    "    coo_data : scipy COO format\n",
    "        The utility matrix in COO format\n",
    "    \"\"\"\n",
    "    # Prepare the data\n",
    "    row = df['User ID'].values\n",
    "    col = df['Product ID'].values\n",
    "    data = df['Rating'].values\n",
    "\n",
    "    # Create the utility matrix in COO format\n",
    "    coo_data = coo_matrix((data, (row, col)))\n",
    "\n",
    "    return coo_data"
   ]
  },
  {
   "cell_type": "code",
   "execution_count": 15,
   "metadata": {},
   "outputs": [
    {
     "data": {
      "text/plain": [
       "<101x1001 sparse matrix of type '<class 'numpy.float64'>'\n",
       "\twith 1000 stored elements in COOrdinate format>"
      ]
     },
     "execution_count": 15,
     "metadata": {},
     "output_type": "execute_result"
    }
   ],
   "source": [
    "coo_data = get_utility_matrix(df = df)\n",
    "coo_data"
   ]
  },
  {
   "cell_type": "markdown",
   "metadata": {},
   "source": [
    "### Split Train Test"
   ]
  },
  {
   "cell_type": "code",
   "execution_count": 16,
   "metadata": {},
   "outputs": [],
   "source": [
    "def split_train_test(df, test_size=0.2, random_state=42):\n",
    "    \"\"\"\n",
    "    Function to create train & test utility matrix in COO format\n",
    "\n",
    "    Parameters\n",
    "    ----------\n",
    "    df : pandas DataFrame\n",
    "        df\n",
    "\n",
    "    test_size : float, default=0.2\n",
    "        The test size\n",
    "\n",
    "    random_state : int, default=42\n",
    "        For reproducibility\n",
    "    \"\"\"\n",
    "    # Generate random seed for reproducibility\n",
    "    np.random.seed(random_state)\n",
    "\n",
    "    # Shuffle rating data\n",
    "    raw_index = df.index.tolist().copy()\n",
    "    np.random.shuffle(raw_index)\n",
    "\n",
    "    # Define the threshold\n",
    "    threshold = int((1-test_size) * len(raw_index))\n",
    "\n",
    "    # Split the index\n",
    "    train_index = raw_index[:threshold]\n",
    "    test_index = raw_index[threshold:]\n",
    "\n",
    "    # Next, extract the train & test data based on test mask\n",
    "    coo_data_train = get_utility_matrix(df = df.loc[train_index])\n",
    "    coo_data_test = get_utility_matrix(df = df.loc[test_index])\n",
    "\n",
    "    # validate\n",
    "    print('Train, Test shape:', (coo_data_train.nnz, coo_data_test.nnz))\n",
    "\n",
    "    return coo_data_train, coo_data_test"
   ]
  },
  {
   "cell_type": "code",
   "execution_count": 17,
   "metadata": {},
   "outputs": [
    {
     "name": "stdout",
     "output_type": "stream",
     "text": [
      "Train, Test shape: (800, 200)\n"
     ]
    }
   ],
   "source": [
    "# Split the data\n",
    "coo_data_train, coo_data_test = split_train_test(df = df,\n",
    "                                                 test_size = 0.2,\n",
    "                                                 random_state = 42)"
   ]
  },
  {
   "cell_type": "code",
   "execution_count": null,
   "metadata": {},
   "outputs": [],
   "source": []
  },
  {
   "cell_type": "code",
   "execution_count": null,
   "metadata": {},
   "outputs": [],
   "source": []
  },
  {
   "cell_type": "code",
   "execution_count": null,
   "metadata": {},
   "outputs": [],
   "source": []
  },
  {
   "cell_type": "code",
   "execution_count": null,
   "metadata": {},
   "outputs": [],
   "source": []
  },
  {
   "cell_type": "code",
   "execution_count": null,
   "metadata": {},
   "outputs": [],
   "source": []
  },
  {
   "cell_type": "code",
   "execution_count": null,
   "metadata": {},
   "outputs": [],
   "source": []
  },
  {
   "cell_type": "code",
   "execution_count": null,
   "metadata": {},
   "outputs": [],
   "source": []
  },
  {
   "cell_type": "code",
   "execution_count": null,
   "metadata": {},
   "outputs": [],
   "source": []
  },
  {
   "cell_type": "code",
   "execution_count": null,
   "metadata": {},
   "outputs": [],
   "source": []
  },
  {
   "cell_type": "code",
   "execution_count": null,
   "metadata": {},
   "outputs": [],
   "source": []
  },
  {
   "cell_type": "code",
   "execution_count": null,
   "metadata": {},
   "outputs": [],
   "source": []
  },
  {
   "cell_type": "code",
   "execution_count": null,
   "metadata": {},
   "outputs": [],
   "source": []
  },
  {
   "cell_type": "code",
   "execution_count": null,
   "metadata": {},
   "outputs": [],
   "source": []
  }
 ],
 "metadata": {
  "colab": {
   "provenance": [],
   "toc_visible": true
  },
  "kernelspec": {
   "display_name": "Python 3 (ipykernel)",
   "language": "python",
   "name": "python3"
  },
  "language_info": {
   "codemirror_mode": {
    "name": "ipython",
    "version": 3
   },
   "file_extension": ".py",
   "mimetype": "text/x-python",
   "name": "python",
   "nbconvert_exporter": "python",
   "pygments_lexer": "ipython3",
   "version": "3.9.12"
  }
 },
 "nbformat": 4,
 "nbformat_minor": 1
}
